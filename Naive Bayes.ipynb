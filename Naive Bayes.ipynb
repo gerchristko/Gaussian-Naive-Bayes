{
 "cells": [
  {
   "cell_type": "markdown",
   "id": "e9f2a8c3",
   "metadata": {},
   "source": [
    "## <font color = \"brown\"> Importing Libraries </font>"
   ]
  },
  {
   "cell_type": "code",
   "execution_count": 1,
   "id": "e6ae07d0",
   "metadata": {},
   "outputs": [],
   "source": [
    "import pandas as pd\n",
    "import numpy as np"
   ]
  },
  {
   "cell_type": "markdown",
   "id": "4ab88b48",
   "metadata": {},
   "source": [
    "## <font color = \"brown\"> Load Data </font>"
   ]
  },
  {
   "cell_type": "code",
   "execution_count": 2,
   "id": "f68083c9",
   "metadata": {},
   "outputs": [],
   "source": [
    "df = pd.read_csv(\"iris.csv\")\n",
    "df = df.drop(\"Id\", axis = 1)"
   ]
  },
  {
   "cell_type": "code",
   "execution_count": 3,
   "id": "5ea50109",
   "metadata": {},
   "outputs": [
    {
     "data": {
      "text/html": [
       "<div>\n",
       "<style scoped>\n",
       "    .dataframe tbody tr th:only-of-type {\n",
       "        vertical-align: middle;\n",
       "    }\n",
       "\n",
       "    .dataframe tbody tr th {\n",
       "        vertical-align: top;\n",
       "    }\n",
       "\n",
       "    .dataframe thead th {\n",
       "        text-align: right;\n",
       "    }\n",
       "</style>\n",
       "<table border=\"1\" class=\"dataframe\">\n",
       "  <thead>\n",
       "    <tr style=\"text-align: right;\">\n",
       "      <th></th>\n",
       "      <th>SepalLengthCm</th>\n",
       "      <th>SepalWidthCm</th>\n",
       "      <th>PetalLengthCm</th>\n",
       "      <th>PetalWidthCm</th>\n",
       "      <th>Species</th>\n",
       "    </tr>\n",
       "  </thead>\n",
       "  <tbody>\n",
       "    <tr>\n",
       "      <th>0</th>\n",
       "      <td>5.1</td>\n",
       "      <td>3.5</td>\n",
       "      <td>1.4</td>\n",
       "      <td>0.2</td>\n",
       "      <td>Iris-setosa</td>\n",
       "    </tr>\n",
       "    <tr>\n",
       "      <th>1</th>\n",
       "      <td>4.9</td>\n",
       "      <td>3.0</td>\n",
       "      <td>1.4</td>\n",
       "      <td>0.2</td>\n",
       "      <td>Iris-setosa</td>\n",
       "    </tr>\n",
       "    <tr>\n",
       "      <th>2</th>\n",
       "      <td>4.7</td>\n",
       "      <td>3.2</td>\n",
       "      <td>1.3</td>\n",
       "      <td>0.2</td>\n",
       "      <td>Iris-setosa</td>\n",
       "    </tr>\n",
       "    <tr>\n",
       "      <th>3</th>\n",
       "      <td>4.6</td>\n",
       "      <td>3.1</td>\n",
       "      <td>1.5</td>\n",
       "      <td>0.2</td>\n",
       "      <td>Iris-setosa</td>\n",
       "    </tr>\n",
       "    <tr>\n",
       "      <th>4</th>\n",
       "      <td>5.0</td>\n",
       "      <td>3.6</td>\n",
       "      <td>1.4</td>\n",
       "      <td>0.2</td>\n",
       "      <td>Iris-setosa</td>\n",
       "    </tr>\n",
       "    <tr>\n",
       "      <th>...</th>\n",
       "      <td>...</td>\n",
       "      <td>...</td>\n",
       "      <td>...</td>\n",
       "      <td>...</td>\n",
       "      <td>...</td>\n",
       "    </tr>\n",
       "    <tr>\n",
       "      <th>145</th>\n",
       "      <td>6.7</td>\n",
       "      <td>3.0</td>\n",
       "      <td>5.2</td>\n",
       "      <td>2.3</td>\n",
       "      <td>Iris-virginica</td>\n",
       "    </tr>\n",
       "    <tr>\n",
       "      <th>146</th>\n",
       "      <td>6.3</td>\n",
       "      <td>2.5</td>\n",
       "      <td>5.0</td>\n",
       "      <td>1.9</td>\n",
       "      <td>Iris-virginica</td>\n",
       "    </tr>\n",
       "    <tr>\n",
       "      <th>147</th>\n",
       "      <td>6.5</td>\n",
       "      <td>3.0</td>\n",
       "      <td>5.2</td>\n",
       "      <td>2.0</td>\n",
       "      <td>Iris-virginica</td>\n",
       "    </tr>\n",
       "    <tr>\n",
       "      <th>148</th>\n",
       "      <td>6.2</td>\n",
       "      <td>3.4</td>\n",
       "      <td>5.4</td>\n",
       "      <td>2.3</td>\n",
       "      <td>Iris-virginica</td>\n",
       "    </tr>\n",
       "    <tr>\n",
       "      <th>149</th>\n",
       "      <td>5.9</td>\n",
       "      <td>3.0</td>\n",
       "      <td>5.1</td>\n",
       "      <td>1.8</td>\n",
       "      <td>Iris-virginica</td>\n",
       "    </tr>\n",
       "  </tbody>\n",
       "</table>\n",
       "<p>150 rows × 5 columns</p>\n",
       "</div>"
      ],
      "text/plain": [
       "     SepalLengthCm  SepalWidthCm  PetalLengthCm  PetalWidthCm         Species\n",
       "0              5.1           3.5            1.4           0.2     Iris-setosa\n",
       "1              4.9           3.0            1.4           0.2     Iris-setosa\n",
       "2              4.7           3.2            1.3           0.2     Iris-setosa\n",
       "3              4.6           3.1            1.5           0.2     Iris-setosa\n",
       "4              5.0           3.6            1.4           0.2     Iris-setosa\n",
       "..             ...           ...            ...           ...             ...\n",
       "145            6.7           3.0            5.2           2.3  Iris-virginica\n",
       "146            6.3           2.5            5.0           1.9  Iris-virginica\n",
       "147            6.5           3.0            5.2           2.0  Iris-virginica\n",
       "148            6.2           3.4            5.4           2.3  Iris-virginica\n",
       "149            5.9           3.0            5.1           1.8  Iris-virginica\n",
       "\n",
       "[150 rows x 5 columns]"
      ]
     },
     "execution_count": 3,
     "metadata": {},
     "output_type": "execute_result"
    }
   ],
   "source": [
    "df"
   ]
  },
  {
   "cell_type": "markdown",
   "id": "b265433f",
   "metadata": {},
   "source": [
    "## <font color = \"brown\"> Train Test Split </font>"
   ]
  },
  {
   "cell_type": "code",
   "execution_count": 4,
   "id": "0132313a",
   "metadata": {},
   "outputs": [],
   "source": [
    "# Train test split\n",
    "train = df.sample(frac = 0.7, random_state = 1)\n",
    "test = df.drop(train.index)\n",
    "\n",
    "y_train = train[\"Species\"]\n",
    "x_train = train.drop(\"Species\", axis = 1)\n",
    "\n",
    "y_test = test[\"Species\"]\n",
    "x_test = test.drop(\"Species\", axis = 1)"
   ]
  },
  {
   "cell_type": "markdown",
   "id": "6f7a61ce",
   "metadata": {},
   "source": [
    "## <font color = \"brown\"> Training </font>"
   ]
  },
  {
   "cell_type": "code",
   "execution_count": 5,
   "id": "df906ff7",
   "metadata": {},
   "outputs": [],
   "source": [
    "means = train.groupby([\"Species\"]).mean() # Find mean of each class\n",
    "var = train.groupby([\"Species\"]).var() # Find variance of each class\n",
    "prior = (train.groupby(\"Species\").count() / len(train)).iloc[:,1] # Find prior probability of each class\n",
    "classes = np.unique(train[\"Species\"].tolist()) # Storing all possible classes"
   ]
  },
  {
   "cell_type": "markdown",
   "id": "bde5d0ff",
   "metadata": {},
   "source": [
    "## <font color = \"brown\"> Classification </font>"
   ]
  },
  {
   "cell_type": "code",
   "execution_count": 16,
   "id": "6f76fb92",
   "metadata": {},
   "outputs": [],
   "source": [
    "def Normal(n, mu, var):\n",
    "    \n",
    "    # Function to return pdf of Normal(mu, var) evaluated at x\n",
    "    sd = np.sqrt(var)\n",
    "    pdf = (np.e ** (-0.5 * ((n - mu)/sd) ** 2)) / (sd * np.sqrt(2 * np.pi))\n",
    "    \n",
    "    return pdf\n",
    "\n",
    "def Predict(X):\n",
    "    Predictions = []\n",
    "    \n",
    "    for i in X.index: # Loop through each instances\n",
    "        \n",
    "        ClassLikelihood = []\n",
    "        instance = X.loc[i]\n",
    "        \n",
    "        for cls in classes: # Loop through each class\n",
    "            \n",
    "            FeatureLikelihoods = []\n",
    "            FeatureLikelihoods.append(np.log(prior[cls])) # Append log prior of class 'cls'\n",
    "            \n",
    "            for col in x_train.columns: # Loop through each feature\n",
    "                \n",
    "                data = instance[col]\n",
    "                \n",
    "                mean = means[col].loc[cls] # Find the mean of column 'col' that are in class 'cls'\n",
    "                variance = var[col].loc[cls] # Find the variance of column 'col' that are in class 'cls'\n",
    "                \n",
    "                Likelihood = Normal(data, mean, variance)\n",
    "                \n",
    "                if Likelihood != 0:\n",
    "                    Likelihood = np.log(Likelihood) # Find the log-likelihood evaluated at x\n",
    "                else:\n",
    "                    Likelihood = 1/len(train) \n",
    "                \n",
    "                FeatureLikelihoods.append(Likelihood)\n",
    "                \n",
    "            TotalLikelihood = sum(FeatureLikelihoods) # Calculate posterior\n",
    "            ClassLikelihood.append(TotalLikelihood)\n",
    "            \n",
    "        MaxIndex = ClassLikelihood.index(max(ClassLikelihood)) # Find largest posterior position\n",
    "        Prediction = classes[MaxIndex]\n",
    "        Predictions.append(Prediction)\n",
    "        \n",
    "    return Predictions\n",
    "        "
   ]
  },
  {
   "cell_type": "code",
   "execution_count": 17,
   "id": "f6879fba",
   "metadata": {},
   "outputs": [],
   "source": [
    "def Accuracy(y, prediction):\n",
    "    \n",
    "    # Function to calculate accuracy\n",
    "    y = list(y)\n",
    "    prediction = list(prediction)\n",
    "    score = 0\n",
    "    \n",
    "    for i, j in zip(y, prediction):\n",
    "        if i == j:\n",
    "            score += 1\n",
    "            \n",
    "    return score / len(y)"
   ]
  },
  {
   "cell_type": "code",
   "execution_count": 18,
   "id": "caf92f7e",
   "metadata": {},
   "outputs": [],
   "source": [
    "PredictTrain = Predict(x_train)\n",
    "PredictTest = Predict(x_test)"
   ]
  },
  {
   "cell_type": "code",
   "execution_count": 19,
   "id": "7d139c78",
   "metadata": {},
   "outputs": [
    {
     "name": "stdout",
     "output_type": "stream",
     "text": [
      "0.98095\n",
      "0.91111\n"
     ]
    }
   ],
   "source": [
    "print(round(Accuracy(y_train, PredictTrain), 5))\n",
    "print(round(Accuracy(y_test, PredictTest), 5))"
   ]
  },
  {
   "cell_type": "markdown",
   "id": "a9f25657",
   "metadata": {},
   "source": [
    "## <font color = \"brown\"> Comparison </font>"
   ]
  },
  {
   "cell_type": "code",
   "execution_count": 10,
   "id": "5f3e1ae7",
   "metadata": {},
   "outputs": [],
   "source": [
    "from sklearn.naive_bayes import GaussianNB\n",
    "\n",
    "clf = GaussianNB()\n",
    "clf.fit(x_train, y_train)\n",
    "SkTrain = clf.predict(x_train) # Predicting on the train set\n",
    "SkTest = clf.predict(x_test) # Predicting on the test set"
   ]
  },
  {
   "cell_type": "code",
   "execution_count": 11,
   "id": "4fa2856b",
   "metadata": {},
   "outputs": [
    {
     "name": "stdout",
     "output_type": "stream",
     "text": [
      "0.98095\n",
      "0.91111\n"
     ]
    }
   ],
   "source": [
    "print(round(Accuracy(y_train, SkTrain), 5))\n",
    "print(round(Accuracy(y_test, SkTest), 5))"
   ]
  },
  {
   "cell_type": "code",
   "execution_count": 12,
   "id": "5358b749",
   "metadata": {},
   "outputs": [
    {
     "name": "stdout",
     "output_type": "stream",
     "text": [
      "1.0\n",
      "1.0\n"
     ]
    }
   ],
   "source": [
    "print(round(Accuracy(PredictTrain, SkTrain), 5))\n",
    "print(round(Accuracy(PredictTest, SkTest), 5))"
   ]
  },
  {
   "cell_type": "code",
   "execution_count": null,
   "id": "111aed6b",
   "metadata": {},
   "outputs": [],
   "source": []
  },
  {
   "cell_type": "code",
   "execution_count": null,
   "id": "5f678835",
   "metadata": {},
   "outputs": [],
   "source": []
  },
  {
   "cell_type": "markdown",
   "id": "b0bdde3c",
   "metadata": {},
   "source": [
    "$$\n",
    "\\begin{aligned}\n",
    "P(C \\mid x) &= \\frac{P(x \\mid C) P(C)}{P(x)} \\\\\n",
    "\\\\ \\space\n",
    "\\text{Where,} &\n",
    "\\\\\n",
    "P(C \\mid x)&: \\text{Believe in C, given observation x} \\\\\n",
    "P(x \\mid C)&: \\text{Probability of observing x if C is true} \\\\\n",
    "P(C) &: \\text{Probability of observing C} \\\\\n",
    "P(x) &: \\text{Probabiliy of observing x}\n",
    "\\end{aligned}\n",
    "$$"
   ]
  },
  {
   "cell_type": "markdown",
   "id": "431c9fae",
   "metadata": {},
   "source": []
  },
  {
   "cell_type": "markdown",
   "id": "75790974",
   "metadata": {},
   "source": [
    "$$\n",
    "\\begin{aligned}\n",
    "P(C_i \\mid x) &= \\frac{P(x \\mid C_i) P(C_i)}{P(x)} \\\\\n",
    "\\\\ &\\propto P(x \\mid C_i) P(C_i) \\space\\space\\space\\dots\\text{Line 2} \\\\\n",
    "\\\\ &\\propto P(C_i) \\prod_{k = 1}^K P(x_k \\mid C_i) \\space\\space\\space\\dots\\text{Line 3} \\\\\n",
    "\\end{aligned}\n",
    "$$"
   ]
  },
  {
   "cell_type": "code",
   "execution_count": null,
   "id": "42235d93",
   "metadata": {},
   "outputs": [],
   "source": []
  },
  {
   "cell_type": "markdown",
   "id": "a6312723",
   "metadata": {},
   "source": [
    "$$\n",
    "\\begin{aligned}\n",
    "\\\\ P(x \\mid C_i) &= P(x_1 \\cap x_2 \\cap \\dots \\cap x_k \\mid C_i) \\\\\n",
    "\\\\ &= P(x_1 \\mid C_i)(x_2 \\mid C_i) \\space \\dots \\space P(x_k \\mid C_i) \\\\\n",
    "\\\\ &= \\prod_{k = 1}^K P(x_k \\mid C_i)\n",
    "\\end{aligned}\n",
    "$$"
   ]
  },
  {
   "cell_type": "code",
   "execution_count": null,
   "id": "fb0a9692",
   "metadata": {},
   "outputs": [],
   "source": []
  },
  {
   "cell_type": "markdown",
   "id": "45a44f6b",
   "metadata": {},
   "source": [
    "$$\n",
    "\\begin{aligned}\n",
    "\\text{Insted of this,}& \\\\\n",
    "P(C_i \\mid x) &\\propto P(C_i) \\prod_{k = 1}^K P(x_k \\mid C_i) \\\\\n",
    "\\\\ \n",
    "\\text{We will use this,}& \\\\\n",
    "\\log P(C_i \\mid x) &\\propto \\log P(C_i) + \\sum_{k = 1}^K \\log P(x_k \\mid C_i)\n",
    "\\end{aligned}\n",
    "$$"
   ]
  },
  {
   "cell_type": "code",
   "execution_count": null,
   "id": "70bbca75",
   "metadata": {},
   "outputs": [],
   "source": []
  }
 ],
 "metadata": {
  "kernelspec": {
   "display_name": "Python 3 (ipykernel)",
   "language": "python",
   "name": "python3"
  },
  "language_info": {
   "codemirror_mode": {
    "name": "ipython",
    "version": 3
   },
   "file_extension": ".py",
   "mimetype": "text/x-python",
   "name": "python",
   "nbconvert_exporter": "python",
   "pygments_lexer": "ipython3",
   "version": "3.7.7"
  }
 },
 "nbformat": 4,
 "nbformat_minor": 5
}
